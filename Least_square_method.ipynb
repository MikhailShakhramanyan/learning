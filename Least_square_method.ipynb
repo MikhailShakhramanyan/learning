{
 "cells": [
  {
   "cell_type": "code",
   "execution_count": 45,
   "metadata": {},
   "outputs": [
    {
     "name": "stdout",
     "output_type": "stream",
     "text": [
      "[2.79820705 2.72425082]\n",
      "[-4.42132368  5.31686365]\n",
      "[-1.74911179  3.55552885]\n",
      "[-1.11054567  2.86457188]\n",
      "\n",
      "\n",
      "1.9721522630525295e-31\n",
      "105.87460526921089\n",
      "68.55666720875053\n",
      "476.3011705077245\n",
      "\n",
      "\n",
      "1939973.6697926847\n",
      "2089278568.8506382\n",
      "186282954.3186989\n",
      "1128759.4399574527\n",
      "[[  0.   10. ]\n",
      " [  1.    4.8]\n",
      " [  2.   -5.6]\n",
      " [  3.  -16.4]\n",
      " [  4.  -22.8]\n",
      " [  5.  -20. ]\n",
      " [  6.   -3.2]\n",
      " [  7.   32.4]\n",
      " [  8.   91.6]\n",
      " [  9.  179.2]\n",
      " [ 10.  300. ]]\n"
     ]
    }
   ],
   "source": [
    "import numpy as np\n",
    "import random\n",
    "\n",
    "def linear_regression(xy_pairs):\n",
    "    m = np.array([len(xy_pairs[0]), sum(i[0] for i in xy_pairs), sum(i[0] for i in xy_pairs), sum(i[0]**2 for i in xy_pairs)]).reshape(2, 2)\n",
    "    v = np.array([sum(i[1] for i in xy_pairs), sum(i[0]*i[1] for i in xy_pairs)])\n",
    "    return np.linalg.solve(m, v)\n",
    "\n",
    "def loss(xy_pairs, func):\n",
    "    loss = 0\n",
    "    for i in xy_pairs:\n",
    "        loss += (i[1] - (func[0] + func[1]*i[0]))**2\n",
    "    return loss\n",
    "\n",
    "m1 = np.array([(x, (2.8*x + 3.2 + random.uniform(-0.5, 0.5))) for x in range(2)]).reshape(2, 2)\n",
    "m2 = np.array([(x, (2.8*x + 3.2 + random.uniform(-0.5, 0.5))) for x in range(5)]).reshape(5, 2)\n",
    "m3 = np.array([(x, (2.8*x + 3.2 + random.uniform(-0.5, 0.5))) for x in range(10)]).reshape(10, 2)\n",
    "m4 = np.array([(x, (2.8*x + 3.2 + random.uniform(-0.5, 0.5))) for x in range(100)]).reshape(100, 2)\n",
    "\n",
    "print(linear_regression(m1))\n",
    "print(linear_regression(m2))\n",
    "print(linear_regression(m3))\n",
    "print(linear_regression(m4))\n",
    "print(\"\\n\")\n",
    "print(loss(m1, linear_regression(m1)))\n",
    "print(loss(m2, linear_regression(m2)))\n",
    "print(loss(m3, linear_regression(m3)))\n",
    "print(loss(m4, linear_regression(m4)))\n",
    "print(\"\\n\")\n",
    "\n",
    "m5 = np.array([(x, (2.8*x + 3.2 + random.uniform(-0.5, 0.5))) for x in range(1000)]).reshape(1000, 2)\n",
    "\n",
    "print(loss(m5, linear_regression(m1)))\n",
    "print(loss(m5, linear_regression(m2)))\n",
    "print(loss(m5, linear_regression(m3)))\n",
    "print(loss(m5, linear_regression(m4)))\n",
    "\n",
    "m6 = np.array([(x, (0.8*x**3 - 5*x**2 - x + 10)) for x in range(11)]).reshape(11, 2)\n",
    "\n",
    "#def polynomial_fit(xy_pairs, k):\n",
    "    "
   ]
  },
  {
   "cell_type": "code",
   "execution_count": null,
   "metadata": {},
   "outputs": [],
   "source": []
  }
 ],
 "metadata": {
  "kernelspec": {
   "display_name": "Python 3",
   "language": "python",
   "name": "python3"
  },
  "language_info": {
   "codemirror_mode": {
    "name": "ipython",
    "version": 3
   },
   "file_extension": ".py",
   "mimetype": "text/x-python",
   "name": "python",
   "nbconvert_exporter": "python",
   "pygments_lexer": "ipython3",
   "version": "3.8.5"
  }
 },
 "nbformat": 4,
 "nbformat_minor": 4
}
