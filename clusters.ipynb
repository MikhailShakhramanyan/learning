{
 "cells": [
  {
   "cell_type": "code",
   "execution_count": null,
   "metadata": {},
   "outputs": [],
   "source": [
    "from PIL import Image\n",
    "import random\n",
    "\n",
    "img = Image.open('/home/misch0k/Desktop/Lenna.png')\n",
    "#img.load()\n",
    "xy = list(img.getdata())\n",
    "INF = 1e5\n",
    "color = [0]*len(xy)\n",
    "centers = [ [random.random()*255, random.random()*255, random.random()*255] for _ in range(256)]\n",
    "#print(centers, '\\n')\n",
    "\n",
    "for i in range(0, 255):\n",
    "    print(\"snikson loch\")\n",
    "    #new clusters\n",
    "    for j in range(0, len(xy)):\n",
    "        p = xy[j]\n",
    "        min_dist = INF\n",
    "        best_cent = [-1, -1, -1]\n",
    "        for l, cent in enumerate(centers):\n",
    "            dist = (cent[0] - p[0])**2 + (cent[1] - p[1])**2 + (cent[2] - p[2])**2\n",
    "            if dist < min_dist:\n",
    "            best_cent = l\n",
    "            min_dist = dist\n",
    "        color[j] = best_cent\n",
    "    #new centers\n",
    "    for j in range(0, k):\n",
    "        x_sum = 0\n",
    "        y_sum = 0\n",
    "        z_sum = 0\n",
    "        cnt = 0\n",
    "        for l in range(0, len(xy)):\n",
    "            if color[l] == j:\n",
    "            x_sum += xy[l][0]\n",
    "            y_sum += xy[l][1]\n",
    "            z_sum += xy[l][2]\n",
    "            cnt += 1\n",
    "        if cnt != 0:\n",
    "            centers[j] = [x_sum/cnt, y_sum/cnt, z_sum/cnt]\n",
    "        else:\n",
    "            centers[j] = [random.random()*255, random.random()*255, random.random()*255]\n",
    "print(color)\n",
    "print(centers, '\\n')"
   ]
  },
  {
   "cell_type": "code",
   "execution_count": null,
   "metadata": {},
   "outputs": [],
   "source": []
  }
 ],
 "metadata": {
  "kernelspec": {
   "display_name": "Python 3",
   "language": "python",
   "name": "python3"
  }
 },
 "nbformat": 4,
 "nbformat_minor": 4
}
