{
 "cells": [
  {
   "cell_type": "code",
   "execution_count": 18,
   "metadata": {},
   "outputs": [
    {
     "name": "stdout",
     "output_type": "stream",
     "text": [
      "{10: [0, 22, 23], 3: [1, 15, 16, 19], 5: [2, 8, 21], 0: [3, 20, 24, 26], 4: [4], 6: [5, 13, 14], 2: [6, 7, 9], 1: [10], 8: [11, 12], 7: [17], 9: [18, 25]}\n"
     ]
    }
   ],
   "source": [
    "s = \"sjknrtjj;stj athtrmjsa wehteqat\"\n",
    "m = []\n",
    "for i in s:\n",
    "    m.append(i)\n",
    "h = 0\n",
    "hd = {}\n",
    "for i in range(len(m) - 4):\n",
    "    if i == 0:\n",
    "        for j in m[i:i+5]:\n",
    "            h = h*256 + ord(j)\n",
    "    else:\n",
    "        h = (h % 256**4) * 256 + ord(m[i+4])\n",
    "    h %= 11\n",
    "    if h not in hd:\n",
    "        hd[h] = [i]\n",
    "    else:\n",
    "        hd[h].append(i)#m[i:i+5]\n",
    "print(hd)"
   ]
  },
  {
   "cell_type": "code",
   "execution_count": null,
   "metadata": {},
   "outputs": [],
   "source": []
  }
 ],
 "metadata": {
  "kernelspec": {
   "display_name": "Python 3",
   "language": "python",
   "name": "python3"
  },
  "language_info": {
   "codemirror_mode": {
    "name": "ipython",
    "version": 3
   },
   "file_extension": ".py",
   "mimetype": "text/x-python",
   "name": "python",
   "nbconvert_exporter": "python",
   "pygments_lexer": "ipython3",
   "version": "3.8.5"
  }
 },
 "nbformat": 4,
 "nbformat_minor": 4
}
