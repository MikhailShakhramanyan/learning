{
 "cells": [
  {
   "cell_type": "code",
   "execution_count": 21,
   "metadata": {},
   "outputs": [
    {
     "name": "stdout",
     "output_type": "stream",
     "text": [
      "[<__main__.Cluster object at 0x7efd5861d3d0>]\n"
     ]
    }
   ],
   "source": [
    "def d(a = (), b = ()):\n",
    "    return ((a[0] - b[0])**2 + (a[1] - b[1])**2)**(1/2)\n",
    "    \n",
    "class Cluster:\n",
    "    def __init__(self, coords, weight):\n",
    "        self.coords = coords\n",
    "        self.weight = weight\n",
    "\n",
    "clusters = [Cluster((0, 1), 1), Cluster((13, 14), 1), Cluster((2, 2), 1), Cluster((124, 15), 1)]\n",
    "while len(clusters) > 1:\n",
    "    min_d = 10**9\n",
    "    for i in range(len(clusters)):\n",
    "        for j in range(len(clusters)):\n",
    "            if d(clusters[i].coords, clusters[j].coords) < min_d and i != j:\n",
    "                min_d = d(clusters[i].coords, clusters[j].coords)\n",
    "                a = clusters[i]\n",
    "                b = clusters[j]\n",
    "    clusters.remove(a)\n",
    "    clusters.remove(b)\n",
    "    clusters.append(Cluster(((a.coords[0] + b.coords[0])/2, (a.coords[1] + b.coords[1])/2), a.weight + b.weight))\n",
    "print(clusters)"
   ]
  },
  {
   "cell_type": "code",
   "execution_count": null,
   "metadata": {},
   "outputs": [],
   "source": []
  }
 ],
 "metadata": {
  "kernelspec": {
   "display_name": "Python 3",
   "language": "python",
   "name": "python3"
  },
  "language_info": {
   "codemirror_mode": {
    "name": "ipython",
    "version": 3
   },
   "file_extension": ".py",
   "mimetype": "text/x-python",
   "name": "python",
   "nbconvert_exporter": "python",
   "pygments_lexer": "ipython3",
   "version": "3.8.5"
  }
 },
 "nbformat": 4,
 "nbformat_minor": 4
}
