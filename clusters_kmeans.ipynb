{
 "cells": [
  {
   "cell_type": "code",
   "execution_count": 21,
   "metadata": {
    "scrolled": true
   },
   "outputs": [
    {
     "name": "stdout",
     "output_type": "stream",
     "text": [
      "[2 2 2 ... 0 0 0]\n",
      "[[195.52450266  98.32275724 101.12015844]\n",
      " [109.89984625  34.36117992  71.83259304]\n",
      " [225.12109438 167.51585883 148.12551152]]\n",
      "(262144, 3)\n"
     ]
    }
   ],
   "source": [
    "from sklearn.cluster import KMeans\n",
    "from PIL import Image\n",
    "import random\n",
    "import numpy as np\n",
    "\n",
    "\n",
    "CLUSTERS_COUNT = 3\n",
    "\n",
    "img = Image.open('Lenna.png')\n",
    "\n",
    "l = np.array(img.getdata())\n",
    "\n",
    "kmeans = KMeans(n_clusters=CLUSTERS_COUNT, random_state = 0).fit(l)\n",
    "\n",
    "centers = kmeans.cluster_centers_\n",
    "colors = kmeans.predict(l)\n",
    "\n",
    "print(colors)\n",
    "print(centers)\n",
    "\n",
    "for i in range(len(l)):\n",
    "    l[i] = centers[colors[i]]\n",
    "\n",
    "print(l.shape)\n",
    "\n",
    "\n",
    "l = np.array([l], dtype=np.uint8)\n",
    "l.resize(*img.size, 3)\n",
    "\n",
    "\n",
    "res = Image.fromarray(l)\n",
    "res.show()\n",
    "res.save('result.png')"
   ]
  },
  {
   "cell_type": "code",
   "execution_count": null,
   "metadata": {},
   "outputs": [],
   "source": []
  }
 ],
 "metadata": {
  "kernelspec": {
   "display_name": "Python 3",
   "language": "python",
   "name": "python3"
  },
  "language_info": {
   "codemirror_mode": {
    "name": "ipython",
    "version": 3
   },
   "file_extension": ".py",
   "mimetype": "text/x-python",
   "name": "python",
   "nbconvert_exporter": "python",
   "pygments_lexer": "ipython3",
   "version": "3.8.5"
  }
 },
 "nbformat": 4,
 "nbformat_minor": 4
}
