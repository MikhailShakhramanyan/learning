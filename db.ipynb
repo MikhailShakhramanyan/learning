{
 "cells": [
  {
   "cell_type": "code",
   "execution_count": 53,
   "metadata": {
    "scrolled": false
   },
   "outputs": [],
   "source": [
    "import sqlite3\n",
    "\n",
    "db = sqlite3.connect(\"db.db\")\n",
    "cursor = db.cursor()\n",
    "# r = cursor.execute(\"create table if not exists laptops(id integer primary key autoincrement, RAM integer, CPU text, vendor_id integer)\")\n",
    "# r = cursor.execute(\"create table if not exists vendors(id integer primary key autoincrement, name text)\")\n",
    "# r = cursor.execute(\"insert into vendors(name) values('LG')\")\n",
    "# r = cursor.execute(\"insert into vendors(name) values('Asus')\")\n",
    "# r = cursor.execute(\"insert into vendors(name) values('Meizu')\")\n",
    "# r = cursor.execute(\"insert into laptops(RAM, CPU, vendor_id) values(200, 'snikson', 3)\")\n",
    "# r = cursor.execute(\"insert into laptops(RAM, CPU, vendor_id) values(47, 'obrygan', 1)\")\n",
    "# r = cursor.execute(\"insert into laptops(RAM, CPU, vendor_id) values(196, 'snukson', 2)\")\n",
    "# r = cursor.execute(\"insert into laptops(RAM, CPU, vendor_id) values(373, 'troyanez', 1)\")\n",
    "\n",
    "db.commit()\n",
    "db.close()"
   ]
  },
  {
   "cell_type": "code",
   "execution_count": null,
   "metadata": {},
   "outputs": [],
   "source": []
  }
 ],
 "metadata": {
  "kernelspec": {
   "display_name": "Python 3",
   "language": "python",
   "name": "python3"
  },
  "language_info": {
   "codemirror_mode": {
    "name": "ipython",
    "version": 3
   },
   "file_extension": ".py",
   "mimetype": "text/x-python",
   "name": "python",
   "nbconvert_exporter": "python",
   "pygments_lexer": "ipython3",
   "version": "3.8.5"
  }
 },
 "nbformat": 4,
 "nbformat_minor": 4
}
