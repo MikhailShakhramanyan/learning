{
 "cells": [
  {
   "cell_type": "code",
   "execution_count": 16,
   "metadata": {
    "scrolled": false
   },
   "outputs": [
    {
     "name": "stdout",
     "output_type": "stream",
     "text": [
      "(2, 'Board', 200, 1, 2, 1, 1, 'Mikhail')\n",
      "(1, 'Chair', 100, 2, 1, 4, 4, 'Daniil')\n",
      "(2, 'Board', 200, 3, 2, 4, 4, 'Daniil')\n",
      "(3, 'Big Mak', 139, 4, 3, 3, 3, 'Anna')\n"
     ]
    }
   ],
   "source": [
    "import sqlite3\n",
    "\n",
    "db = sqlite3.connect(\"db.db\")\n",
    "cursor = db.cursor()\n",
    "\n",
    "# r = cursor.execute(\"create table if not exists laptops(id integer primary key autoincrement, RAM integer, CPU text, vendor_id integer)\")\n",
    "# r = cursor.execute(\"create table if not exists vendors(id integer primary key autoincrement, name text)\")\n",
    "# r = cursor.execute(\"insert into vendors(name) values('LG')\")\n",
    "# r = cursor.execute(\"insert into vendors(name) values('Asus')\")\n",
    "# r = cursor.execute(\"insert into vendors(name) values('Meizu')\")\n",
    "# r = cursor.execute(\"insert into laptops(RAM, CPU, vendor_id) values(200, 'snikson', 3)\")\n",
    "# r = cursor.execute(\"insert into laptops(RAM, CPU, vendor_id) values(47, 'obrygan', 1)\")\n",
    "# r = cursor.execute(\"insert into laptops(RAM, CPU, vendor_id) values(196, 'snukson', 2)\")\n",
    "# r = cursor.execute(\"insert into laptops(RAM, CPU, vendor_id) values(373, 'troyanez', 1)\")\n",
    "\n",
    "# r = cursor.execute(\"create table if not exists items(id integer primary key autoincrement, name text, price integer)\")\n",
    "# r = cursor.execute(\"insert into items(name, price) values('Chair', 100)\")\n",
    "# r = cursor.execute(\"insert into items(name, price) values('Board', 200)\")\n",
    "# r = cursor.execute(\"create table if not exists users(id integer primary key autoincrement, name text)\")\n",
    "# r = cursor.execute(\"insert into users(name) values('Mikhail')\")\n",
    "# r = cursor.execute(\"insert into users(name) values('Maria')\")\n",
    "# r = cursor.execute(\"insert into users(name) values('Anna')\")\n",
    "# r = cursor.execute(\"insert into users(name) values('Daniil')\")\n",
    "# r = cursor.execute(\"create table if not exists orders(id integer primary key autoincrement, item_id integer, user_id integer)\")\n",
    "# r = cursor.execute(\"insert into orders(item_id, user_id) values(2, 1)\")\n",
    "# r = cursor.execute(\"insert into orders(item_id, user_id) values(1, 4)\")\n",
    "# r = cursor.execute(\"insert into orders(item_id, user_id) values(2, 4)\")\n",
    "# r = cursor.execute(\"insert into items(name, price) values('Big Mak', 139)\")\n",
    "# r = cursor.execute(\"insert into orders(item_id, user_id) values(3, 3)\")\n",
    "# r = cursor.execute(\"insert into items(name, price) values('TV', 400)\")\n",
    "\n",
    "# r = cursor.execute(\"select * from items join orders on items.id = orders.item_id join users on users.id = orders.user_id\")\n",
    "# for row in r:\n",
    "#     print(row)\n",
    "\n",
    "db.commit()\n",
    "db.close()"
   ]
  },
  {
   "cell_type": "code",
   "execution_count": null,
   "metadata": {},
   "outputs": [],
   "source": []
  }
 ],
 "metadata": {
  "kernelspec": {
   "display_name": "Python 3",
   "language": "python",
   "name": "python3"
  },
  "language_info": {
   "codemirror_mode": {
    "name": "ipython",
    "version": 3
   },
   "file_extension": ".py",
   "mimetype": "text/x-python",
   "name": "python",
   "nbconvert_exporter": "python",
   "pygments_lexer": "ipython3",
   "version": "3.9.1"
  }
 },
 "nbformat": 4,
 "nbformat_minor": 4
}
